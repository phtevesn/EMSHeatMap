{
 "cells": [
  {
   "cell_type": "code",
   "execution_count": 1,
   "id": "initial_id",
   "metadata": {
    "ExecuteTime": {
     "end_time": "2025-10-17T21:41:09.902919Z",
     "start_time": "2025-10-17T21:41:09.039301Z"
    }
   },
   "outputs": [],
   "source": [
    "import folium\n",
    "from folium.plugins import HeatMap\n",
    "import numpy as np\n",
    "import pandas as pd"
   ]
  },
  {
   "cell_type": "code",
   "execution_count": 2,
   "id": "c3d5aff81cf3946b",
   "metadata": {
    "ExecuteTime": {
     "end_time": "2025-10-17T21:41:10.491398Z",
     "start_time": "2025-10-17T21:41:10.476593Z"
    }
   },
   "outputs": [
    {
     "name": "stdout",
     "output_type": "stream",
     "text": [
      "   grid_cell_id   latitude   longitude  risk_score\n",
      "0            40  37.773703 -122.419956        0.97\n",
      "1            41  37.767341 -122.427008        0.96\n",
      "2            35  37.784213 -122.423180        0.94\n",
      "3            13  37.781549 -122.412825        0.93\n",
      "4             5  37.768020 -122.417442        0.91\n"
     ]
    }
   ],
   "source": [
    "# Base coordinates for San Francisco (approx. downtown)\n",
    "base_lat, base_lon = 37.7749, -122.4194\n",
    "\n",
    "# Number of grid cells\n",
    "n_cells = 50\n",
    "\n",
    "# Generate random test data\n",
    "np.random.seed(42)\n",
    "data = {\n",
    "    \"grid_cell_id\": np.arange(1, n_cells + 1),\n",
    "    \"latitude\": base_lat + np.random.uniform(-0.01, 0.01, n_cells),\n",
    "    \"longitude\": base_lon + np.random.uniform(-0.01, 0.01, n_cells),\n",
    "    \"risk_score\": np.round(np.random.uniform(0, 1, n_cells), 2)\n",
    "}\n",
    "\n",
    "predictions_df = pd.DataFrame(data)\n",
    "\n",
    "# Sort by risk_score descending (so hotspots appear first)\n",
    "predictions_df = predictions_df.sort_values(by=\"risk_score\", ascending=False).reset_index(drop=True)\n",
    "\n",
    "print(predictions_df.head())"
   ]
  },
  {
   "cell_type": "code",
   "execution_count": 3,
   "id": "332d32f9490d7a5e",
   "metadata": {
    "ExecuteTime": {
     "end_time": "2025-10-17T21:44:06.544753Z",
     "start_time": "2025-10-17T21:44:06.533975Z"
    }
   },
   "outputs": [
    {
     "data": {
      "text/plain": [
       "<folium.plugins.heat_map.HeatMap at 0x108aca470>"
      ]
     },
     "execution_count": 3,
     "metadata": {},
     "output_type": "execute_result"
    }
   ],
   "source": [
    "map = folium.Map(location=[base_lat, base_lon], zoom_start=12)\n",
    "\n",
    "heat_data = predictions_df[['latitude', 'longitude', 'risk_score']].values.tolist()\n",
    "\n",
    "# 3. Create the HeatMap layer and add it to the map\n",
    "HeatMap(heat_data).add_to(map)"
   ]
  },
  {
   "cell_type": "code",
   "execution_count": 4,
   "id": "1cb94aecce040f2d",
   "metadata": {
    "ExecuteTime": {
     "end_time": "2025-10-17T21:44:35.146153Z",
     "start_time": "2025-10-17T21:44:35.139088Z"
    }
   },
   "outputs": [
    {
     "data": {
      "text/html": [
       "<div style=\"width:100%;\"><div style=\"position:relative;width:100%;height:0;padding-bottom:60%;\"><span style=\"color:#565656\">Make this Notebook Trusted to load map: File -> Trust Notebook</span><iframe srcdoc=\"&lt;!DOCTYPE html&gt;\n",
       "&lt;html&gt;\n",
       "&lt;head&gt;\n",
       "    \n",
       "    &lt;meta http-equiv=&quot;content-type&quot; content=&quot;text/html; charset=UTF-8&quot; /&gt;\n",
       "    &lt;script src=&quot;https://cdn.jsdelivr.net/npm/leaflet@1.9.3/dist/leaflet.js&quot;&gt;&lt;/script&gt;\n",
       "    &lt;script src=&quot;https://code.jquery.com/jquery-3.7.1.min.js&quot;&gt;&lt;/script&gt;\n",
       "    &lt;script src=&quot;https://cdn.jsdelivr.net/npm/bootstrap@5.2.2/dist/js/bootstrap.bundle.min.js&quot;&gt;&lt;/script&gt;\n",
       "    &lt;script src=&quot;https://cdnjs.cloudflare.com/ajax/libs/Leaflet.awesome-markers/2.0.2/leaflet.awesome-markers.js&quot;&gt;&lt;/script&gt;\n",
       "    &lt;link rel=&quot;stylesheet&quot; href=&quot;https://cdn.jsdelivr.net/npm/leaflet@1.9.3/dist/leaflet.css&quot;/&gt;\n",
       "    &lt;link rel=&quot;stylesheet&quot; href=&quot;https://cdn.jsdelivr.net/npm/bootstrap@5.2.2/dist/css/bootstrap.min.css&quot;/&gt;\n",
       "    &lt;link rel=&quot;stylesheet&quot; href=&quot;https://netdna.bootstrapcdn.com/bootstrap/3.0.0/css/bootstrap-glyphicons.css&quot;/&gt;\n",
       "    &lt;link rel=&quot;stylesheet&quot; href=&quot;https://cdn.jsdelivr.net/npm/@fortawesome/fontawesome-free@6.2.0/css/all.min.css&quot;/&gt;\n",
       "    &lt;link rel=&quot;stylesheet&quot; href=&quot;https://cdnjs.cloudflare.com/ajax/libs/Leaflet.awesome-markers/2.0.2/leaflet.awesome-markers.css&quot;/&gt;\n",
       "    &lt;link rel=&quot;stylesheet&quot; href=&quot;https://cdn.jsdelivr.net/gh/python-visualization/folium/folium/templates/leaflet.awesome.rotate.min.css&quot;/&gt;\n",
       "    \n",
       "            &lt;meta name=&quot;viewport&quot; content=&quot;width=device-width,\n",
       "                initial-scale=1.0, maximum-scale=1.0, user-scalable=no&quot; /&gt;\n",
       "            &lt;style&gt;\n",
       "                #map_7aeef5143cc6fb898eb3e8793d3416c8 {\n",
       "                    position: relative;\n",
       "                    width: 100.0%;\n",
       "                    height: 100.0%;\n",
       "                    left: 0.0%;\n",
       "                    top: 0.0%;\n",
       "                }\n",
       "                .leaflet-container { font-size: 1rem; }\n",
       "            &lt;/style&gt;\n",
       "\n",
       "            &lt;style&gt;html, body {\n",
       "                width: 100%;\n",
       "                height: 100%;\n",
       "                margin: 0;\n",
       "                padding: 0;\n",
       "            }\n",
       "            &lt;/style&gt;\n",
       "\n",
       "            &lt;style&gt;#map {\n",
       "                position:absolute;\n",
       "                top:0;\n",
       "                bottom:0;\n",
       "                right:0;\n",
       "                left:0;\n",
       "                }\n",
       "            &lt;/style&gt;\n",
       "\n",
       "            &lt;script&gt;\n",
       "                L_NO_TOUCH = false;\n",
       "                L_DISABLE_3D = false;\n",
       "            &lt;/script&gt;\n",
       "\n",
       "        \n",
       "    &lt;script src=&quot;https://cdn.jsdelivr.net/gh/python-visualization/folium@main/folium/templates/leaflet_heat.min.js&quot;&gt;&lt;/script&gt;\n",
       "&lt;/head&gt;\n",
       "&lt;body&gt;\n",
       "    \n",
       "    \n",
       "            &lt;div class=&quot;folium-map&quot; id=&quot;map_7aeef5143cc6fb898eb3e8793d3416c8&quot; &gt;&lt;/div&gt;\n",
       "        \n",
       "&lt;/body&gt;\n",
       "&lt;script&gt;\n",
       "    \n",
       "    \n",
       "            var map_7aeef5143cc6fb898eb3e8793d3416c8 = L.map(\n",
       "                &quot;map_7aeef5143cc6fb898eb3e8793d3416c8&quot;,\n",
       "                {\n",
       "                    center: [37.7749, -122.4194],\n",
       "                    crs: L.CRS.EPSG3857,\n",
       "                    ...{\n",
       "  &quot;zoom&quot;: 12,\n",
       "  &quot;zoomControl&quot;: true,\n",
       "  &quot;preferCanvas&quot;: false,\n",
       "}\n",
       "\n",
       "                }\n",
       "            );\n",
       "\n",
       "            \n",
       "\n",
       "        \n",
       "    \n",
       "            var tile_layer_20b420af75e692afdd7ad0bbe86e418d = L.tileLayer(\n",
       "                &quot;https://tile.openstreetmap.org/{z}/{x}/{y}.png&quot;,\n",
       "                {\n",
       "  &quot;minZoom&quot;: 0,\n",
       "  &quot;maxZoom&quot;: 19,\n",
       "  &quot;maxNativeZoom&quot;: 19,\n",
       "  &quot;noWrap&quot;: false,\n",
       "  &quot;attribution&quot;: &quot;\\u0026copy; \\u003ca href=\\&quot;https://www.openstreetmap.org/copyright\\&quot;\\u003eOpenStreetMap\\u003c/a\\u003e contributors&quot;,\n",
       "  &quot;subdomains&quot;: &quot;abc&quot;,\n",
       "  &quot;detectRetina&quot;: false,\n",
       "  &quot;tms&quot;: false,\n",
       "  &quot;opacity&quot;: 1,\n",
       "}\n",
       "\n",
       "            );\n",
       "        \n",
       "    \n",
       "            tile_layer_20b420af75e692afdd7ad0bbe86e418d.addTo(map_7aeef5143cc6fb898eb3e8793d3416c8);\n",
       "        \n",
       "    \n",
       "            var heat_map_3056a7cbcf3c5afca042cefd99b0ef69 = L.heatLayer(\n",
       "                [[37.7737030498748, -122.41995570149676, 0.97], [37.7673407646969, -122.42700811508124, 0.96], [37.784212640661494, -122.42318035356568, 0.94], [37.78154885281601, -122.41282524981696, 0.93], [37.76802037280885, -122.41744200042378, 0.91], [37.767689877213044, -122.42542568636931, 0.9], [37.77353890037284, -122.4279089871264, 0.89], [37.76856809019707, -122.41854607833683, 0.87], [37.77518468876828, -122.42791910696532, 0.86], [37.76889347564317, -122.41397459306627, 0.82], [37.76914678221357, -122.42226493346612, 0.81], [37.77713705789445, -122.41395510461406, 0.81], [37.77098484485919, -122.4265815155005, 0.8], [37.7822235229155, -122.42548034275161, 0.76], [37.76685344228013, -122.4166488505729, 0.7], [37.7839142861282, -122.41389734353277, 0.64], [37.768536499344144, -122.42378130980624, 0.63], [37.77113422152179, -122.41894534341236, 0.61], [37.770724582803965, -122.40966226126798, 0.54], [37.77099227538347, -122.41480787643323, 0.52], [37.7658290082544, -122.4270826188095, 0.51], [37.776873169683945, -122.41150345299144, 0.51], [37.76558777042231, -122.41418429902765, 0.5], [37.77530136042356, -122.42084917963282, 0.5], [37.78060351922786, -122.41481985663917, 0.43], [37.77705089703803, -122.41213793148249, 0.42], [37.76606167224337, -122.42763014995896, 0.41], [37.77858466053024, -122.41165574514847, 0.36], [37.78387771074507, -122.42812883299428, 0.34], [37.77074289297071, -122.42928955765753, 0.32], [37.78106794696233, -122.42289633355946, 0.32], [37.77953987883623, -122.41061002116871, 0.31], [37.78308640804158, -122.4181744560486, 0.3], [37.76531168988592, -122.4216264542062, 0.29], [37.770075599632, -122.41398065640091, 0.28], [37.768597089110514, -122.42724217146014, 0.28], [37.77480353820223, -122.41513510425554, 0.25], [37.76801989040673, -122.41096251529953, 0.25], [37.774021399684344, -122.41526285312304, 0.23], [37.776922300234865, -122.42849545422179, 0.23], [37.76831048247375, -122.41693403746345, 0.22], [37.775395128632645, -122.41335606038491, 0.19], [37.78429819704324, -122.42397301936452, 0.16], [37.76620103185971, -122.42278203950295, 0.12], [37.772227236865874, -122.4130907714309, 0.11], [37.779061451555926, -122.42289339338473, 0.08], [37.77583420558687, -122.42889161746511, 0.05], [37.77815044568708, -122.4195240880727, 0.04], [37.77239080237695, -122.4100083074447, 0.03], [37.776748291377245, -122.42223068542911, 0.01]],\n",
       "                {\n",
       "  &quot;minOpacity&quot;: 0.5,\n",
       "  &quot;maxZoom&quot;: 18,\n",
       "  &quot;radius&quot;: 25,\n",
       "  &quot;blur&quot;: 15,\n",
       "}\n",
       "            );\n",
       "        \n",
       "    \n",
       "            heat_map_3056a7cbcf3c5afca042cefd99b0ef69.addTo(map_7aeef5143cc6fb898eb3e8793d3416c8);\n",
       "        \n",
       "&lt;/script&gt;\n",
       "&lt;/html&gt;\" style=\"position:absolute;width:100%;height:100%;left:0;top:0;border:none !important;\" allowfullscreen webkitallowfullscreen mozallowfullscreen></iframe></div></div>"
      ],
      "text/plain": [
       "<folium.folium.Map at 0x1684bd0f0>"
      ]
     },
     "execution_count": 4,
     "metadata": {},
     "output_type": "execute_result"
    }
   ],
   "source": [
    "map"
   ]
  },
  {
   "cell_type": "code",
   "execution_count": null,
   "id": "487eab04026cb49d",
   "metadata": {},
   "outputs": [],
   "source": []
  }
 ],
 "metadata": {
  "kernelspec": {
   "display_name": "ems-env",
   "language": "python",
   "name": "ems-predictor"
  },
  "language_info": {
   "codemirror_mode": {
    "name": "ipython",
    "version": 3
   },
   "file_extension": ".py",
   "mimetype": "text/x-python",
   "name": "python",
   "nbconvert_exporter": "python",
   "pygments_lexer": "ipython3",
   "version": "3.10.19"
  }
 },
 "nbformat": 4,
 "nbformat_minor": 5
}
